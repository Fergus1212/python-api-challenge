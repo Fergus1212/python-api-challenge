{
 "cells": [
  {
   "cell_type": "markdown",
   "metadata": {},
   "source": [
    "# VacationPy\n",
    "----\n",
    "\n",
    "#### Note\n",
    "* Instructions have been included for each segment. You do not have to follow them exactly, but they are included to help you think through the steps."
   ]
  },
  {
   "cell_type": "code",
   "execution_count": 1,
   "metadata": {},
   "outputs": [],
   "source": [
    "# Dependencies and Setup\n",
    "\n",
    "import matplotlib.pyplot as plt\n",
    "import pandas as pd\n",
    "import numpy as np\n",
    "import requests\n",
    "import time\n",
    "import scipy.stats as st\n",
    "from scipy.stats import linregress\n",
    "import os\n",
    "import gmaps\n",
    "from dotenv import load_dotenv\n",
    "load_dotenv()\n",
    "\n",
    "\n",
    "# Import API key\n",
    "\n",
    "API_KEY = os.getenv('g_key') \n"
   ]
  },
  {
   "cell_type": "markdown",
   "metadata": {},
   "source": [
    "### Store Part I results into DataFrame\n",
    "* Load the csv exported in Part I to a DataFrame"
   ]
  },
  {
   "cell_type": "code",
   "execution_count": 55,
   "metadata": {},
   "outputs": [
    {
     "data": {
      "text/html": [
       "<div>\n",
       "<style scoped>\n",
       "    .dataframe tbody tr th:only-of-type {\n",
       "        vertical-align: middle;\n",
       "    }\n",
       "\n",
       "    .dataframe tbody tr th {\n",
       "        vertical-align: top;\n",
       "    }\n",
       "\n",
       "    .dataframe thead th {\n",
       "        text-align: right;\n",
       "    }\n",
       "</style>\n",
       "<table border=\"1\" class=\"dataframe\">\n",
       "  <thead>\n",
       "    <tr style=\"text-align: right;\">\n",
       "      <th></th>\n",
       "      <th>City</th>\n",
       "      <th>Cloudiness</th>\n",
       "      <th>Country</th>\n",
       "      <th>Date</th>\n",
       "      <th>Humidity</th>\n",
       "      <th>Lat</th>\n",
       "      <th>Lng</th>\n",
       "      <th>Max Temp</th>\n",
       "      <th>Wind Speed</th>\n",
       "    </tr>\n",
       "  </thead>\n",
       "  <tbody>\n",
       "    <tr>\n",
       "      <td>0</td>\n",
       "      <td>Esperance</td>\n",
       "      <td>73</td>\n",
       "      <td>AU</td>\n",
       "      <td>1584314613</td>\n",
       "      <td>93</td>\n",
       "      <td>-33.87</td>\n",
       "      <td>121.90</td>\n",
       "      <td>64.40</td>\n",
       "      <td>5.82</td>\n",
       "    </tr>\n",
       "    <tr>\n",
       "      <td>1</td>\n",
       "      <td>Port Elizabeth</td>\n",
       "      <td>75</td>\n",
       "      <td>ZA</td>\n",
       "      <td>1584314989</td>\n",
       "      <td>93</td>\n",
       "      <td>-33.92</td>\n",
       "      <td>25.57</td>\n",
       "      <td>62.60</td>\n",
       "      <td>4.70</td>\n",
       "    </tr>\n",
       "    <tr>\n",
       "      <td>2</td>\n",
       "      <td>Broken Hill</td>\n",
       "      <td>0</td>\n",
       "      <td>AU</td>\n",
       "      <td>1584315019</td>\n",
       "      <td>37</td>\n",
       "      <td>-31.95</td>\n",
       "      <td>141.43</td>\n",
       "      <td>68.00</td>\n",
       "      <td>13.87</td>\n",
       "    </tr>\n",
       "    <tr>\n",
       "      <td>3</td>\n",
       "      <td>Qaanaaq</td>\n",
       "      <td>100</td>\n",
       "      <td>GL</td>\n",
       "      <td>1584314549</td>\n",
       "      <td>61</td>\n",
       "      <td>77.48</td>\n",
       "      <td>-69.36</td>\n",
       "      <td>-3.80</td>\n",
       "      <td>7.52</td>\n",
       "    </tr>\n",
       "    <tr>\n",
       "      <td>4</td>\n",
       "      <td>Manokwari</td>\n",
       "      <td>100</td>\n",
       "      <td>ID</td>\n",
       "      <td>1584314629</td>\n",
       "      <td>69</td>\n",
       "      <td>-0.87</td>\n",
       "      <td>134.08</td>\n",
       "      <td>76.86</td>\n",
       "      <td>2.35</td>\n",
       "    </tr>\n",
       "  </tbody>\n",
       "</table>\n",
       "</div>"
      ],
      "text/plain": [
       "             City  Cloudiness Country        Date  Humidity    Lat     Lng  \\\n",
       "0       Esperance          73      AU  1584314613        93 -33.87  121.90   \n",
       "1  Port Elizabeth          75      ZA  1584314989        93 -33.92   25.57   \n",
       "2     Broken Hill           0      AU  1584315019        37 -31.95  141.43   \n",
       "3         Qaanaaq         100      GL  1584314549        61  77.48  -69.36   \n",
       "4       Manokwari         100      ID  1584314629        69  -0.87  134.08   \n",
       "\n",
       "   Max Temp  Wind Speed  \n",
       "0     64.40        5.82  \n",
       "1     62.60        4.70  \n",
       "2     68.00       13.87  \n",
       "3     -3.80        7.52  \n",
       "4     76.86        2.35  "
      ]
     },
     "execution_count": 55,
     "metadata": {},
     "output_type": "execute_result"
    }
   ],
   "source": [
    "df = pd.read_csv(\"../output_data/cities.csv\")\n",
    "df.set_index('City')\n",
    "df=df.drop(columns=['Unnamed: 0'])\n",
    "df.head()"
   ]
  },
  {
   "cell_type": "markdown",
   "metadata": {},
   "source": [
    "### Humidity Heatmap\n",
    "* Configure gmaps.\n",
    "* Use the Lat and Lng as locations and Humidity as the weight.\n",
    "* Add Heatmap layer to map."
   ]
  },
  {
   "cell_type": "code",
   "execution_count": 99,
   "metadata": {},
   "outputs": [],
   "source": [
    "humidity = df[\"Humidity\"].astype(float)\n",
    "maxhumidity = humidity.max()\n",
    "locations = df[[\"Lat\", \"Lng\"]]\n"
   ]
  },
  {
   "cell_type": "code",
   "execution_count": 102,
   "metadata": {},
   "outputs": [
    {
     "data": {
      "application/vnd.jupyter.widget-view+json": {
       "model_id": "4b91fadcbede4934b103d813511c15d1",
       "version_major": 2,
       "version_minor": 0
      },
      "text/plain": [
       "Figure(layout=FigureLayout(height='420px'))"
      ]
     },
     "metadata": {},
     "output_type": "display_data"
    }
   ],
   "source": [
    "fig = gmaps.figure()\n",
    "heat_layer = gmaps.heatmap_layer(locations, weights=humidity,dissipating=False, max_intensity=maxhumidity,point_radius=3)\n",
    "fig.add_layer(heat_layer)\n",
    "fig"
   ]
  },
  {
   "cell_type": "markdown",
   "metadata": {},
   "source": [
    "### Create new DataFrame fitting weather criteria\n",
    "* Narrow down the cities to fit weather conditions.\n",
    "* Drop any rows with null values."
   ]
  },
  {
   "cell_type": "code",
   "execution_count": 58,
   "metadata": {},
   "outputs": [
    {
     "data": {
      "text/html": [
       "<div>\n",
       "<style scoped>\n",
       "    .dataframe tbody tr th:only-of-type {\n",
       "        vertical-align: middle;\n",
       "    }\n",
       "\n",
       "    .dataframe tbody tr th {\n",
       "        vertical-align: top;\n",
       "    }\n",
       "\n",
       "    .dataframe thead th {\n",
       "        text-align: right;\n",
       "    }\n",
       "</style>\n",
       "<table border=\"1\" class=\"dataframe\">\n",
       "  <thead>\n",
       "    <tr style=\"text-align: right;\">\n",
       "      <th></th>\n",
       "      <th>City</th>\n",
       "      <th>Cloudiness</th>\n",
       "      <th>Country</th>\n",
       "      <th>Date</th>\n",
       "      <th>Humidity</th>\n",
       "      <th>Lat</th>\n",
       "      <th>Lng</th>\n",
       "      <th>Max Temp</th>\n",
       "      <th>Wind Speed</th>\n",
       "    </tr>\n",
       "  </thead>\n",
       "  <tbody>\n",
       "    <tr>\n",
       "      <td>0</td>\n",
       "      <td>La Trinidad</td>\n",
       "      <td>0</td>\n",
       "      <td>PH</td>\n",
       "      <td>1584315059</td>\n",
       "      <td>65</td>\n",
       "      <td>16.45</td>\n",
       "      <td>120.59</td>\n",
       "      <td>76.19</td>\n",
       "      <td>0.92</td>\n",
       "    </tr>\n",
       "    <tr>\n",
       "      <td>1</td>\n",
       "      <td>Alice Springs</td>\n",
       "      <td>0</td>\n",
       "      <td>AU</td>\n",
       "      <td>1584315072</td>\n",
       "      <td>18</td>\n",
       "      <td>-23.70</td>\n",
       "      <td>133.88</td>\n",
       "      <td>73.40</td>\n",
       "      <td>9.17</td>\n",
       "    </tr>\n",
       "    <tr>\n",
       "      <td>2</td>\n",
       "      <td>Port Augusta</td>\n",
       "      <td>0</td>\n",
       "      <td>AU</td>\n",
       "      <td>1584315423</td>\n",
       "      <td>56</td>\n",
       "      <td>-32.50</td>\n",
       "      <td>137.77</td>\n",
       "      <td>71.01</td>\n",
       "      <td>1.12</td>\n",
       "    </tr>\n",
       "    <tr>\n",
       "      <td>3</td>\n",
       "      <td>General Roca</td>\n",
       "      <td>0</td>\n",
       "      <td>AR</td>\n",
       "      <td>1584315429</td>\n",
       "      <td>27</td>\n",
       "      <td>-39.03</td>\n",
       "      <td>-67.58</td>\n",
       "      <td>77.00</td>\n",
       "      <td>4.70</td>\n",
       "    </tr>\n",
       "  </tbody>\n",
       "</table>\n",
       "</div>"
      ],
      "text/plain": [
       "            City  Cloudiness Country        Date  Humidity    Lat     Lng  \\\n",
       "0    La Trinidad           0      PH  1584315059        65  16.45  120.59   \n",
       "1  Alice Springs           0      AU  1584315072        18 -23.70  133.88   \n",
       "2   Port Augusta           0      AU  1584315423        56 -32.50  137.77   \n",
       "3   General Roca           0      AR  1584315429        27 -39.03  -67.58   \n",
       "\n",
       "   Max Temp  Wind Speed  \n",
       "0     76.19        0.92  \n",
       "1     73.40        9.17  \n",
       "2     71.01        1.12  \n",
       "3     77.00        4.70  "
      ]
     },
     "execution_count": 58,
     "metadata": {},
     "output_type": "execute_result"
    }
   ],
   "source": [
    "filter_city_df = df.loc[(df[\"Max Temp\"] > 70) & (df[\"Max Temp\"] < 80) & (df['Wind Speed']<10) & (df[\"Cloudiness\"] == 0), :]\n",
    "filter_city_df = filter_city_df.dropna(how='any')\n",
    "filter_city_df.reset_index(inplace=True)\n",
    "del filter_city_df['index']\n",
    "filter_city_df.head()"
   ]
  },
  {
   "cell_type": "markdown",
   "metadata": {},
   "source": [
    "### Hotel Map\n",
    "* Store into variable named `hotel_df`.\n",
    "* Add a \"Hotel Name\" column to the DataFrame.\n",
    "* Set parameters to search for hotels with 5000 meters.\n",
    "* Hit the Google Places API for each city's coordinates.\n",
    "* Store the first Hotel result into the DataFrame.\n",
    "* Plot markers on top of the heatmap."
   ]
  },
  {
   "cell_type": "code",
   "execution_count": 77,
   "metadata": {},
   "outputs": [
    {
     "data": {
      "text/html": [
       "<div>\n",
       "<style scoped>\n",
       "    .dataframe tbody tr th:only-of-type {\n",
       "        vertical-align: middle;\n",
       "    }\n",
       "\n",
       "    .dataframe tbody tr th {\n",
       "        vertical-align: top;\n",
       "    }\n",
       "\n",
       "    .dataframe thead th {\n",
       "        text-align: right;\n",
       "    }\n",
       "</style>\n",
       "<table border=\"1\" class=\"dataframe\">\n",
       "  <thead>\n",
       "    <tr style=\"text-align: right;\">\n",
       "      <th></th>\n",
       "      <th>City</th>\n",
       "      <th>Cloudiness</th>\n",
       "      <th>Country</th>\n",
       "      <th>Date</th>\n",
       "      <th>Humidity</th>\n",
       "      <th>Lat</th>\n",
       "      <th>Lng</th>\n",
       "      <th>Max Temp</th>\n",
       "      <th>Wind Speed</th>\n",
       "      <th>Hotel Name</th>\n",
       "    </tr>\n",
       "  </thead>\n",
       "  <tbody>\n",
       "    <tr>\n",
       "      <td>0</td>\n",
       "      <td>La Trinidad</td>\n",
       "      <td>0</td>\n",
       "      <td>PH</td>\n",
       "      <td>1584315059</td>\n",
       "      <td>65</td>\n",
       "      <td>16.45</td>\n",
       "      <td>120.59</td>\n",
       "      <td>76.19</td>\n",
       "      <td>0.92</td>\n",
       "      <td>Baguio</td>\n",
       "    </tr>\n",
       "    <tr>\n",
       "      <td>1</td>\n",
       "      <td>Alice Springs</td>\n",
       "      <td>0</td>\n",
       "      <td>AU</td>\n",
       "      <td>1584315072</td>\n",
       "      <td>18</td>\n",
       "      <td>-23.70</td>\n",
       "      <td>133.88</td>\n",
       "      <td>73.40</td>\n",
       "      <td>9.17</td>\n",
       "      <td>Alice Springs</td>\n",
       "    </tr>\n",
       "    <tr>\n",
       "      <td>2</td>\n",
       "      <td>Port Augusta</td>\n",
       "      <td>0</td>\n",
       "      <td>AU</td>\n",
       "      <td>1584315423</td>\n",
       "      <td>56</td>\n",
       "      <td>-32.50</td>\n",
       "      <td>137.77</td>\n",
       "      <td>71.01</td>\n",
       "      <td>1.12</td>\n",
       "      <td>Port Augusta</td>\n",
       "    </tr>\n",
       "    <tr>\n",
       "      <td>3</td>\n",
       "      <td>General Roca</td>\n",
       "      <td>0</td>\n",
       "      <td>AR</td>\n",
       "      <td>1584315429</td>\n",
       "      <td>27</td>\n",
       "      <td>-39.03</td>\n",
       "      <td>-67.58</td>\n",
       "      <td>77.00</td>\n",
       "      <td>4.70</td>\n",
       "      <td>General Roca</td>\n",
       "    </tr>\n",
       "  </tbody>\n",
       "</table>\n",
       "</div>"
      ],
      "text/plain": [
       "            City  Cloudiness Country        Date  Humidity    Lat     Lng  \\\n",
       "0    La Trinidad           0      PH  1584315059        65  16.45  120.59   \n",
       "1  Alice Springs           0      AU  1584315072        18 -23.70  133.88   \n",
       "2   Port Augusta           0      AU  1584315423        56 -32.50  137.77   \n",
       "3   General Roca           0      AR  1584315429        27 -39.03  -67.58   \n",
       "\n",
       "   Max Temp  Wind Speed     Hotel Name  \n",
       "0     76.19        0.92         Baguio  \n",
       "1     73.40        9.17  Alice Springs  \n",
       "2     71.01        1.12   Port Augusta  \n",
       "3     77.00        4.70   General Roca  "
      ]
     },
     "execution_count": 77,
     "metadata": {},
     "output_type": "execute_result"
    }
   ],
   "source": [
    "\n",
    "hotellist = []\n",
    "\n",
    "for i in range(len(filter_city_df)):\n",
    "    lat = filter_city_df.loc[i]['Lat']\n",
    "    lng = filter_city_df.loc[i]['Lng']\n",
    "\n",
    "    params = {\n",
    "        \"location\": f\"{lat},{lng}\",\n",
    "        \"radius\": 100000,\n",
    "        \"types\" : \"hotel\",\n",
    "        \"key\": API_KEY\n",
    "    }\n",
    "    \n",
    "    base_url = \"https://maps.googleapis.com/maps/api/place/nearbysearch/json\"\n",
    "    requested = requests.get(base_url, params=params)\n",
    "    jsn = requested.json()\n",
    "    try:\n",
    "        hotellist.append(jsn['results'][0]['name'])\n",
    "    except:\n",
    "        hotellist.append(\"\")\n",
    "filter_city_df[\"Hotel Name\"] = hotellist\n",
    "\n",
    "\n",
    "filter_city_df.head()\n"
   ]
  },
  {
   "cell_type": "code",
   "execution_count": null,
   "metadata": {},
   "outputs": [],
   "source": []
  },
  {
   "cell_type": "code",
   "execution_count": null,
   "metadata": {},
   "outputs": [],
   "source": [
    "\n"
   ]
  },
  {
   "cell_type": "code",
   "execution_count": 92,
   "metadata": {},
   "outputs": [],
   "source": [
    "# NOTE: Do not change any of the code in this cell\n",
    "\n",
    "# Using the template add the hotel marks to the heatmap\n",
    "info_box_template = \"\"\"\n",
    "<dl>\n",
    "<dt>Name</dt><dd>{Hotel Name}</dd>\n",
    "<dt>City</dt><dd>{City}</dd>\n",
    "<dt>Country</dt><dd>{Country}</dd>\n",
    "</dl>\n",
    "\"\"\"\n",
    "# Store the DataFrame Row\n",
    "# NOTE: be sure to update with your DataFrame name\n",
    "hotel_info = [info_box_template.format(**row) for index, row in filter_city_df.iterrows()]\n",
    "locations = filter_city_df[[\"Lat\", \"Lng\"]]\n"
   ]
  },
  {
   "cell_type": "code",
   "execution_count": 93,
   "metadata": {},
   "outputs": [
    {
     "data": {
      "application/vnd.jupyter.widget-view+json": {
       "model_id": "f99ea525f117477498ea124090d41c11",
       "version_major": 2,
       "version_minor": 0
      },
      "text/plain": [
       "Figure(layout=FigureLayout(height='420px'))"
      ]
     },
     "metadata": {},
     "output_type": "display_data"
    }
   ],
   "source": [
    "# Add marker layer ontop of heat map\n",
    "markers = gmaps.marker_layer(locations)\n",
    "fig.add_layer(markers)\n",
    "fig\n",
    "\n",
    "# Display Map\n",
    "fig"
   ]
  },
  {
   "cell_type": "code",
   "execution_count": null,
   "metadata": {},
   "outputs": [],
   "source": []
  }
 ],
 "metadata": {
  "kernelspec": {
   "display_name": "Python 3",
   "language": "python",
   "name": "python3"
  },
  "language_info": {
   "codemirror_mode": {
    "name": "ipython",
    "version": 3
   },
   "file_extension": ".py",
   "mimetype": "text/x-python",
   "name": "python",
   "nbconvert_exporter": "python",
   "pygments_lexer": "ipython3",
   "version": "3.7.4"
  },
  "latex_envs": {
   "LaTeX_envs_menu_present": true,
   "autoclose": false,
   "autocomplete": true,
   "bibliofile": "biblio.bib",
   "cite_by": "apalike",
   "current_citInitial": 1,
   "eqLabelWithNumbers": true,
   "eqNumInitial": 1,
   "hotkeys": {
    "equation": "Ctrl-E",
    "itemize": "Ctrl-I"
   },
   "labels_anchors": false,
   "latex_user_defs": false,
   "report_style_numbering": false,
   "user_envs_cfg": false
  }
 },
 "nbformat": 4,
 "nbformat_minor": 2
}
